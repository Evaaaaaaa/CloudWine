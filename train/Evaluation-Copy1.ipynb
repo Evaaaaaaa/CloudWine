{
 "cells": [
  {
   "cell_type": "markdown",
   "metadata": {},
   "source": [
    "# CloudWine Model Evaluation"
   ]
  },
  {
   "cell_type": "code",
   "execution_count": 1,
   "metadata": {},
   "outputs": [],
   "source": [
    "import pickle\n",
    "import json\n",
    "import yaml"
   ]
  },
  {
   "cell_type": "code",
   "execution_count": 2,
   "metadata": {},
   "outputs": [],
   "source": [
    "from os import listdir\n",
    "from os.path import isfile, join\n"
   ]
  },
  {
   "cell_type": "code",
   "execution_count": 4,
   "metadata": {},
   "outputs": [
    {
     "data": {
      "text/plain": [
       "['2020-06-11 09:39:50.289381.pkl', '2020-06-11 09:38:28.011441.pkl']"
      ]
     },
     "execution_count": 4,
     "metadata": {},
     "output_type": "execute_result"
    }
   ],
   "source": [
    "files"
   ]
  },
  {
   "cell_type": "code",
   "execution_count": 19,
   "metadata": {},
   "outputs": [],
   "source": [
    "files = [f for f in listdir('./runs') if isfile(join('./runs', f))]\n",
    "config_list = []\n",
    "for fx in files:\n",
    "    f = './runs/' + fx\n",
    "    with open(f, \"rb\") as file:\n",
    "        config = pickle.load(file)\n",
    "        config_list += [config]"
   ]
  },
  {
   "cell_type": "code",
   "execution_count": 20,
   "metadata": {},
   "outputs": [
    {
     "data": {
      "text/plain": [
       "[{'args': {'data_path': './data/raw/winemag-data-130k-v2.csv',\n",
       "   'lemmatize': True,\n",
       "   'lowercase': True,\n",
       "   'model_dir': './models/',\n",
       "   'remove_punctuation': True,\n",
       "   'remove_stopwords': True,\n",
       "   'save_model': False,\n",
       "   'save_validation': True,\n",
       "   'validation_dir': './runs/'},\n",
       "  'model': 'tfidf',\n",
       "  'output': 0.3107020243675117},\n",
       " {'args': {'data_path': './data/raw/winemag-data-130k-v2.csv',\n",
       "   'lemmatize': False,\n",
       "   'lowercase': False,\n",
       "   'model_dir': './models/',\n",
       "   'remove_punctuation': False,\n",
       "   'remove_stopwords': False,\n",
       "   'save_model': False,\n",
       "   'save_validation': True,\n",
       "   'validation_dir': './runs/'},\n",
       "  'model': 'tfidf',\n",
       "  'output': 0.3783932159438838}]"
      ]
     },
     "execution_count": 20,
     "metadata": {},
     "output_type": "execute_result"
    }
   ],
   "source": [
    "config_list"
   ]
  },
  {
   "cell_type": "code",
   "execution_count": null,
   "metadata": {},
   "outputs": [],
   "source": []
  }
 ],
 "metadata": {
  "kernelspec": {
   "display_name": "cloudwine",
   "language": "python",
   "name": "cloudwine"
  },
  "language_info": {
   "codemirror_mode": {
    "name": "ipython",
    "version": 3
   },
   "file_extension": ".py",
   "mimetype": "text/x-python",
   "name": "python",
   "nbconvert_exporter": "python",
   "pygments_lexer": "ipython3",
   "version": "3.8.3"
  }
 },
 "nbformat": 4,
 "nbformat_minor": 4
}
